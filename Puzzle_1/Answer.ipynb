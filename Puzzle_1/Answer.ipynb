{
 "cells": [
  {
   "cell_type": "code",
   "execution_count": 80,
   "metadata": {},
   "outputs": [],
   "source": [
    "with open(\"./Documents/git_repos/Advent_Of_Code/Puzzle_1/Dataset.txt\") as file:\n",
    "    lines = file.read().split(\"\\n\")"
   ]
  },
  {
   "cell_type": "code",
   "execution_count": 82,
   "metadata": {},
   "outputs": [],
   "source": [
    "#convert to numeric\n",
    "lines2 = [int(i) for i in lines]"
   ]
  },
  {
   "cell_type": "code",
   "execution_count": 83,
   "metadata": {},
   "outputs": [],
   "source": [
    "def sum_then_mult(input1, input2, target_sum):\n",
    "    if (input1 + input2 == target_sum):\n",
    "        return(input1 * input2)\n",
    "    else:\n",
    "        return(None)"
   ]
  },
  {
   "cell_type": "code",
   "execution_count": 84,
   "metadata": {},
   "outputs": [
    {
     "name": "stdout",
     "output_type": "stream",
     "text": [
      "40\n"
     ]
    }
   ],
   "source": [
    "#test case\n",
    "print(sum_then_mult(20,2,22))"
   ]
  },
  {
   "cell_type": "code",
   "execution_count": 105,
   "metadata": {},
   "outputs": [],
   "source": [
    "def find_answer_in_list(input_list, target_sum):\n",
    "    output = None\n",
    "    \n",
    "    for i in range(len(input_list)-1):\n",
    "        for j in range(i,len(input_list)):\n",
    "            output = sum_then_mult(input_list[i],input_list[j], target_sum)\n",
    "            if (output != None):\n",
    "                return(output, input_list[i],input_list[j])\n",
    "            "
   ]
  },
  {
   "cell_type": "code",
   "execution_count": 113,
   "metadata": {},
   "outputs": [
    {
     "data": {
      "text/plain": [
       "(608, 16, 38)"
      ]
     },
     "execution_count": 113,
     "metadata": {},
     "output_type": "execute_result"
    }
   ],
   "source": [
    "#test case\n",
    "\n",
    "a = [1,7,23,85,16,0,38,100,71]\n",
    "\n",
    "find_answer_in_list(a,54) "
   ]
  },
  {
   "cell_type": "code",
   "execution_count": null,
   "metadata": {},
   "outputs": [],
   "source": [
    "print(find_answer_in_list(lines2, ))"
   ]
  },
  {
   "cell_type": "code",
   "execution_count": 115,
   "metadata": {},
   "outputs": [],
   "source": [
    "def find_answer_in_list3(input_list, target_sum):\n",
    "    \n",
    "    def sum_then_mult3(input1, input2, input3, target_sum):\n",
    "        if (input1 + input2 + input3 == target_sum):\n",
    "            return(input1 * input2 * input3)\n",
    "        else:\n",
    "            return(None)\n",
    "    \n",
    "    output = None\n",
    "    \n",
    "    for i in range(len(input_list)-2):\n",
    "        for j in range(i,len(input_list)-1):\n",
    "            for k in range(j,len(input_list)):\n",
    "                output = sum_then_mult3(input_list[i],input_list[j], input_list[k], target_sum)\n",
    "                if (output != None):\n",
    "                    return(output, input_list[i],input_list[j], input_list[k])\n",
    "\n"
   ]
  },
  {
   "cell_type": "code",
   "execution_count": 116,
   "metadata": {},
   "outputs": [
    {
     "data": {
      "text/plain": [
       "(0, 16, 0, 38)"
      ]
     },
     "execution_count": 116,
     "metadata": {},
     "output_type": "execute_result"
    }
   ],
   "source": [
    "find_answer_in_list3(a,54) "
   ]
  },
  {
   "cell_type": "code",
   "execution_count": 118,
   "metadata": {},
   "outputs": [
    {
     "name": "stdout",
     "output_type": "stream",
     "text": [
      "(261244452, 764, 857, 399)\n"
     ]
    }
   ],
   "source": [
    "print(find_answer_in_list3(lines2,2020 ))"
   ]
  }
 ],
 "metadata": {
  "kernelspec": {
   "display_name": "Python 3",
   "language": "python",
   "name": "python3"
  },
  "language_info": {
   "codemirror_mode": {
    "name": "ipython",
    "version": 3
   },
   "file_extension": ".py",
   "mimetype": "text/x-python",
   "name": "python",
   "nbconvert_exporter": "python",
   "pygments_lexer": "ipython3",
   "version": "3.8.3"
  }
 },
 "nbformat": 4,
 "nbformat_minor": 4
}
