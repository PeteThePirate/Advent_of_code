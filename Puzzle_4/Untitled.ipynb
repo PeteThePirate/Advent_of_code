{
 "cells": [
  {
   "cell_type": "markdown",
   "metadata": {},
   "source": [
    "byr (Birth Year)\n",
    "iyr (Issue Year)\n",
    "eyr (Expiration Year)\n",
    "hgt (Height)\n",
    "hcl (Hair Color)\n",
    "ecl (Eye Color)\n",
    "pid (Passport ID)\n",
    "cid (Country ID)"
   ]
  },
  {
   "cell_type": "code",
   "execution_count": 14,
   "metadata": {},
   "outputs": [],
   "source": [
    "import re"
   ]
  },
  {
   "cell_type": "code",
   "execution_count": 15,
   "metadata": {},
   "outputs": [],
   "source": [
    "passports = [i for i in open(\"./Puzzle4_input.txt\").read().split(\"\\n\\n\")]"
   ]
  },
  {
   "cell_type": "code",
   "execution_count": 16,
   "metadata": {},
   "outputs": [
    {
     "data": {
      "text/plain": [
       "['ecl:hzl byr:1926 iyr:2010\\npid:221225902 cid:61 hgt:186cm eyr:2021 hcl:#7d3b0c',\n",
       " 'hcl:#efcc98 hgt:178 pid:433543520\\neyr:2020 byr:1926\\necl:blu cid:92\\niyr:2010',\n",
       " 'iyr:2018\\neyr:2026\\nbyr:1946 ecl:brn\\nhcl:#b6652a hgt:158cm\\npid:822320101',\n",
       " 'iyr:2010\\nhgt:138 ecl:grn pid:21019503 eyr:1937 byr:2008 hcl:z',\n",
       " 'byr:2018 hcl:z eyr:1990 ecl:#d06796 iyr:2019\\nhgt:176in cid:75 pid:153cm']"
      ]
     },
     "execution_count": 16,
     "metadata": {},
     "output_type": "execute_result"
    }
   ],
   "source": [
    "passports[0:5]"
   ]
  },
  {
   "cell_type": "code",
   "execution_count": 17,
   "metadata": {},
   "outputs": [],
   "source": [
    "#formatting:\n",
    "passports = [re.sub(\"\\n\", \" \", i) for i in passports]\n"
   ]
  },
  {
   "cell_type": "code",
   "execution_count": 18,
   "metadata": {},
   "outputs": [
    {
     "data": {
      "text/plain": [
       "['ecl:hzl byr:1926 iyr:2010 pid:221225902 cid:61 hgt:186cm eyr:2021 hcl:#7d3b0c',\n",
       " 'hcl:#efcc98 hgt:178 pid:433543520 eyr:2020 byr:1926 ecl:blu cid:92 iyr:2010',\n",
       " 'iyr:2018 eyr:2026 byr:1946 ecl:brn hcl:#b6652a hgt:158cm pid:822320101',\n",
       " 'iyr:2010 hgt:138 ecl:grn pid:21019503 eyr:1937 byr:2008 hcl:z',\n",
       " 'byr:2018 hcl:z eyr:1990 ecl:#d06796 iyr:2019 hgt:176in cid:75 pid:153cm']"
      ]
     },
     "execution_count": 18,
     "metadata": {},
     "output_type": "execute_result"
    }
   ],
   "source": [
    "passports[0:5]"
   ]
  },
  {
   "cell_type": "code",
   "execution_count": 19,
   "metadata": {},
   "outputs": [],
   "source": [
    "passports = [i.split(\" \") for i in passports]"
   ]
  },
  {
   "cell_type": "code",
   "execution_count": 21,
   "metadata": {},
   "outputs": [
    {
     "data": {
      "text/plain": [
       "[['ecl:hzl',\n",
       "  'byr:1926',\n",
       "  'iyr:2010',\n",
       "  'pid:221225902',\n",
       "  'cid:61',\n",
       "  'hgt:186cm',\n",
       "  'eyr:2021',\n",
       "  'hcl:#7d3b0c'],\n",
       " ['hcl:#efcc98',\n",
       "  'hgt:178',\n",
       "  'pid:433543520',\n",
       "  'eyr:2020',\n",
       "  'byr:1926',\n",
       "  'ecl:blu',\n",
       "  'cid:92',\n",
       "  'iyr:2010'],\n",
       " ['iyr:2018',\n",
       "  'eyr:2026',\n",
       "  'byr:1946',\n",
       "  'ecl:brn',\n",
       "  'hcl:#b6652a',\n",
       "  'hgt:158cm',\n",
       "  'pid:822320101'],\n",
       " ['iyr:2010',\n",
       "  'hgt:138',\n",
       "  'ecl:grn',\n",
       "  'pid:21019503',\n",
       "  'eyr:1937',\n",
       "  'byr:2008',\n",
       "  'hcl:z'],\n",
       " ['byr:2018',\n",
       "  'hcl:z',\n",
       "  'eyr:1990',\n",
       "  'ecl:#d06796',\n",
       "  'iyr:2019',\n",
       "  'hgt:176in',\n",
       "  'cid:75',\n",
       "  'pid:153cm']]"
      ]
     },
     "execution_count": 21,
     "metadata": {},
     "output_type": "execute_result"
    }
   ],
   "source": [
    "passports[0:5]"
   ]
  },
  {
   "cell_type": "code",
   "execution_count": 25,
   "metadata": {},
   "outputs": [
    {
     "ename": "AttributeError",
     "evalue": "'list' object has no attribute 'split'",
     "output_type": "error",
     "traceback": [
      "\u001b[1;31m---------------------------------------------------------------------------\u001b[0m",
      "\u001b[1;31mAttributeError\u001b[0m                            Traceback (most recent call last)",
      "\u001b[1;32m<ipython-input-25-355866cdaa91>\u001b[0m in \u001b[0;36m<module>\u001b[1;34m\u001b[0m\n\u001b[0;32m      1\u001b[0m \u001b[1;32mfor\u001b[0m \u001b[0mlist_of_strings\u001b[0m \u001b[1;32min\u001b[0m \u001b[0mpassports\u001b[0m\u001b[1;33m[\u001b[0m\u001b[1;36m0\u001b[0m\u001b[1;33m:\u001b[0m\u001b[1;36m1\u001b[0m\u001b[1;33m]\u001b[0m\u001b[1;33m:\u001b[0m\u001b[1;33m\u001b[0m\u001b[1;33m\u001b[0m\u001b[0m\n\u001b[1;32m----> 2\u001b[1;33m     \u001b[0mkeys\u001b[0m\u001b[1;33m,\u001b[0m \u001b[0mvalues\u001b[0m \u001b[1;33m=\u001b[0m \u001b[0mlist_of_strings\u001b[0m\u001b[1;33m.\u001b[0m\u001b[0msplit\u001b[0m\u001b[1;33m(\u001b[0m\u001b[1;34m\":\"\u001b[0m\u001b[1;33m)\u001b[0m\u001b[1;33m\u001b[0m\u001b[1;33m\u001b[0m\u001b[0m\n\u001b[0m\u001b[0;32m      3\u001b[0m \u001b[1;33m\u001b[0m\u001b[0m\n\u001b[0;32m      4\u001b[0m \u001b[0mprint\u001b[0m\u001b[1;33m(\u001b[0m\u001b[0mkeys\u001b[0m\u001b[1;33m)\u001b[0m\u001b[1;33m\u001b[0m\u001b[1;33m\u001b[0m\u001b[0m\n",
      "\u001b[1;31mAttributeError\u001b[0m: 'list' object has no attribute 'split'"
     ]
    }
   ],
   "source": [
    "for list_of_strings in passports[0:1]:\n",
    "    keys, values = list_of_strings.split(\":\")\n",
    "    \n",
    "print(keys)"
   ]
  }
 ],
 "metadata": {
  "kernelspec": {
   "display_name": "Python 3",
   "language": "python",
   "name": "python3"
  },
  "language_info": {
   "codemirror_mode": {
    "name": "ipython",
    "version": 3
   },
   "file_extension": ".py",
   "mimetype": "text/x-python",
   "name": "python",
   "nbconvert_exporter": "python",
   "pygments_lexer": "ipython3",
   "version": "3.7.7"
  }
 },
 "nbformat": 4,
 "nbformat_minor": 4
}
